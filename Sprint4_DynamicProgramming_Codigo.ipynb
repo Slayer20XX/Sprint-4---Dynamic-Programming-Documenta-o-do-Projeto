{
  "nbformat": 4,
  "nbformat_minor": 0,
  "metadata": {
    "colab": {
      "provenance": []
    },
    "kernelspec": {
      "name": "python3",
      "display_name": "Python 3"
    },
    "language_info": {
      "name": "python"
    }
  },
  "cells": [
    {
      "cell_type": "markdown",
      "source": [
        "# **Sprint 4 - Dynamic Programming**\n",
        "\n",
        "**Nomes e RM dos Integrantes do Grupo:**\n",
        "- Matheus Taylor, RM556211\n",
        "- Henrique Maldonado, RM557270\n"
      ],
      "metadata": {
        "id": "ywlJERCwN0Fu"
      }
    },
    {
      "cell_type": "markdown",
      "source": [
        "# **Exemplo De Uma Estrutura De Dados:**"
      ],
      "metadata": {
        "id": "Eqn5oDSvSfdX"
      }
    },
    {
      "cell_type": "code",
      "source": [
        "image = [\n",
        "    [0, 0, 0, 0, 0],\n",
        "    [0, 1, 1, 1, 0],\n",
        "    [0, 1, 1, 1, 0],\n",
        "    [0, 1, 1, 1, 0],\n",
        "    [0, 0, 0, 0, 0]\n",
        "]"
      ],
      "metadata": {
        "id": "i195v1kWSJYg"
      },
      "execution_count": 1,
      "outputs": []
    },
    {
      "cell_type": "markdown",
      "source": [
        "# **Com Recursão:**"
      ],
      "metadata": {
        "id": "5g5CzQviSy_Q"
      }
    },
    {
      "cell_type": "code",
      "source": [
        "def cut_amostra_rec(precisao, n):\n",
        "    if n == 0:\n",
        "        return 0\n",
        "    max_precisao = float('-inf')\n",
        "    for i in range(1, n + 1):\n",
        "        max_precisao = max(max_precisao, precisao[i - 1] + cut_amostra_rec(precisao, n - i))\n",
        "    return max_precisao"
      ],
      "metadata": {
        "id": "D3Y2vZZ5TY2_"
      },
      "execution_count": 5,
      "outputs": []
    },
    {
      "cell_type": "markdown",
      "source": [
        "# **Com memorização:**"
      ],
      "metadata": {
        "id": "BZ1DPtY9TBK_"
      }
    },
    {
      "cell_type": "code",
      "source": [
        "def cut_amostra_memo(precisao, n, memo):\n",
        "    if n == 0:\n",
        "        return 0\n",
        "    if memo[n] != -1:\n",
        "        return memo[n]\n",
        "    max_precisao = float('-inf')\n",
        "    for i in range(1, n + 1):\n",
        "        max_precisao = max(max_precisao, precisao[i - 1] + cut_amostra_memo(precisao, n - i, memo))\n",
        "    memo[n] = max_precisao\n",
        "    return memo[n]"
      ],
      "metadata": {
        "id": "NOq_errYTZa_"
      },
      "execution_count": 4,
      "outputs": []
    },
    {
      "cell_type": "markdown",
      "source": [
        "# **Com Iteração (Bottom-Up):**"
      ],
      "metadata": {
        "id": "t4nhrY6HTCFR"
      }
    },
    {
      "cell_type": "code",
      "source": [
        "from collections import deque\n",
        "\n",
        "def bfs_distances(graph, start):\n",
        "    distances = {node: -1 for node in graph}\n",
        "    queue = deque([start])\n",
        "    distances[start] = 0\n",
        "\n",
        "    while queue:\n",
        "        node = queue.popleft()\n",
        "        for neighbor in graph[node]:\n",
        "            if distances[neighbor] == -1:\n",
        "                distances[neighbor] = distances[node] + 1\n",
        "                queue.append(neighbor)\n",
        "\n",
        "    return distances\n",
        "\n",
        "def find_diameter_iterative(graph):\n",
        "\n",
        "    start_node = next(iter(graph))\n",
        "    dist1 = bfs_distances(graph, start_node)\n",
        "    farthest_node = max(dist1, key=dist1.get)\n",
        "\n",
        "\n",
        "    dist2 = bfs_distances(graph, farthest_node)\n",
        "    diameter = max(dist2.values())\n",
        "\n",
        "    return diameter"
      ],
      "metadata": {
        "id": "IQpXPTgQTaU1"
      },
      "execution_count": 2,
      "outputs": []
    },
    {
      "cell_type": "markdown",
      "source": [
        "# **Teste:**"
      ],
      "metadata": {
        "id": "mQZpjr76UkQQ"
      }
    },
    {
      "cell_type": "code",
      "source": [
        "def cut_amostra_iter(precisao):\n",
        "    n = len(precisao)\n",
        "    dp = [0] * (n + 1)\n",
        "    for i in range(1, n + 1):\n",
        "        max_precisao = float('-inf')\n",
        "        for j in range(i):\n",
        "            max_precisao = max(max_precisao, precisao[j] + dp[i - j - 1])\n",
        "        dp[i] = max_precisao\n",
        "    return dp[n]\n",
        "\n",
        "precisao = [1, 5, 8, 9, 10, 17, 17, 20]\n",
        "n = len(precisao)\n",
        "\n",
        "rec = cut_amostra_rec(precisao, n)\n",
        "memo = [-1] * (n + 1)\n",
        "memo_res = cut_amostra_memo(precisao, n, memo)\n",
        "iter_res = cut_amostra_iter(precisao)\n",
        "\n",
        "print(\"Recursivo:\", rec)\n",
        "print(\"Memorizado:\", memo_res)\n",
        "print(\"Iterativo:\", iter_res)"
      ],
      "metadata": {
        "colab": {
          "base_uri": "https://localhost:8080/"
        },
        "id": "ct9brp_yUjm4",
        "outputId": "98bfec70-b810-4943-b7e0-8f203a361171"
      },
      "execution_count": 10,
      "outputs": [
        {
          "output_type": "stream",
          "name": "stdout",
          "text": [
            "Recursivo: 22\n",
            "Memorizado: 22\n",
            "Iterativo: 22\n"
          ]
        }
      ]
    }
  ]
}